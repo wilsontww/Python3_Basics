{
 "cells": [
  {
   "cell_type": "code",
   "execution_count": 1,
   "metadata": {},
   "outputs": [
    {
     "name": "stdout",
     "output_type": "stream",
     "text": [
      "Hello World\n",
      "Double Quotes Work Too\n"
     ]
    }
   ],
   "source": [
    "print('Hello World')\n",
    "print(\"Double Quotes Work Too\")"
   ]
  },
  {
   "cell_type": "code",
   "execution_count": 3,
   "metadata": {},
   "outputs": [
    {
     "name": "stdout",
     "output_type": "stream",
     "text": [
      "concatenation\n",
      "I Need A Space\n",
      "I am 5\n"
     ]
    }
   ],
   "source": [
    "print('concat'+'enation')\n",
    "#Comma-based concatenation embeds a space\n",
    "print(\"I\",\"Need\",\"A\",\"Space\")\n",
    "#Useful for concantenating different variable types e.g. int + string\n",
    "print('I am', 5)"
   ]
  },
  {
   "cell_type": "code",
   "execution_count": 5,
   "metadata": {},
   "outputs": [
    {
     "name": "stdout",
     "output_type": "stream",
     "text": [
      "I'm using an escape character\n",
      "I'm getting tricky with quotes\n"
     ]
    }
   ],
   "source": [
    "print('I\\'m using an escape character')\n",
    "print(\"I'm getting tricky with quotes\")"
   ]
  },
  {
   "cell_type": "code",
   "execution_count": 6,
   "metadata": {},
   "outputs": [
    {
     "name": "stdout",
     "output_type": "stream",
     "text": [
      "16\n"
     ]
    }
   ],
   "source": [
    "#Exponents\n",
    "print(4**2)"
   ]
  },
  {
   "cell_type": "code",
   "execution_count": 8,
   "metadata": {},
   "outputs": [
    {
     "name": "stdout",
     "output_type": "stream",
     "text": [
      "20.0\n"
     ]
    }
   ],
   "source": [
    "#Variables\n",
    "#Variable names can't begin with a number, prefix with underscore\n",
    "exVar = 100\n",
    "opVar = exVar / 5\n",
    "print(opVar)"
   ]
  },
  {
   "cell_type": "code",
   "execution_count": 9,
   "metadata": {},
   "outputs": [
    {
     "name": "stdout",
     "output_type": "stream",
     "text": [
      "1\n",
      "2\n",
      "3\n",
      "4\n",
      "5\n",
      "6\n",
      "7\n",
      "8\n",
      "9\n"
     ]
    }
   ],
   "source": [
    "#While Loops\n",
    "condition = 1\n",
    "#end while statement with colon, python will auto tab over \n",
    "while condition < 10: \n",
    "    print(condition)\n",
    "    condition += 1\n",
    "    \n",
    "#Ctrl + C will break execution (if in infinite loop)\n"
   ]
  },
  {
   "cell_type": "code",
   "execution_count": 11,
   "metadata": {},
   "outputs": [
    {
     "name": "stdout",
     "output_type": "stream",
     "text": [
      "1\n",
      "6\n",
      "7\n",
      "3\n",
      "6\n",
      "9\n",
      "0\n",
      "1\n",
      "2\n",
      "3\n",
      "4\n",
      "5\n",
      "6\n",
      "7\n",
      "8\n",
      "9\n",
      "10\n"
     ]
    }
   ],
   "source": [
    "#For Loops\n",
    "#create example list\n",
    "exList = [1,6,7,3,6,9,0]\n",
    "#iterate over list\n",
    "for x in exList: \n",
    "    print(x)\n",
    "    \n",
    "#create simple counter\n",
    "#range function is efficient, memory-sensitive\n",
    "for x in range(1,11):\n",
    "    print(x)"
   ]
  },
  {
   "cell_type": "code",
   "execution_count": 15,
   "metadata": {},
   "outputs": [
    {
     "name": "stdout",
     "output_type": "stream",
     "text": [
      "2 is less than 7\n",
      "10 is greater than 7 which is greater than 2\n"
     ]
    }
   ],
   "source": [
    "#If Statements\n",
    "x = 2\n",
    "y = 7\n",
    "z = 10\n",
    "\n",
    "if x > y: \n",
    "    print(x, 'is greater than', y)\n",
    "if x < y: \n",
    "    print (x,'is less than',y)\n",
    "#if x = y is syntax error, == is comparison, = is assignment\n",
    "if x == y: \n",
    "    print(x,'is the same as',y)\n",
    "if z > y > x: \n",
    "    print(z,'is greater than',y,'which is greater than',x)\n",
    "    "
   ]
  },
  {
   "cell_type": "code",
   "execution_count": 20,
   "metadata": {},
   "outputs": [
    {
     "name": "stdout",
     "output_type": "stream",
     "text": [
      "61 is greater than 6\n"
     ]
    }
   ],
   "source": [
    "#If, Elif, Else Statement\n",
    "x = 61\n",
    "y = 6\n",
    "\n",
    "if x < y: \n",
    "    print(x,'is less than',y)\n",
    "elif x == y: \n",
    "    print(x,'is equal to',y)\n",
    "else:\n",
    "    print(x,'is greater than',y)"
   ]
  },
  {
   "cell_type": "code",
   "execution_count": 24,
   "metadata": {},
   "outputs": [
    {
     "name": "stdout",
     "output_type": "stream",
     "text": [
      "61 is greater than 6\n"
     ]
    }
   ],
   "source": [
    "#Functions\n",
    "def exFunc(x,y):\n",
    "#     x = 61\n",
    "#     y = 6 \n",
    "    if x < y: \n",
    "        print(x,'is less than',y)\n",
    "    elif x == y: \n",
    "        print(x,'is equal to',y)\n",
    "    else:\n",
    "        print(x,'is greater than',y)\n",
    "        \n",
    "exFunc(61,6)"
   ]
  },
  {
   "cell_type": "code",
   "execution_count": 31,
   "metadata": {},
   "outputs": [
    {
     "name": "stdout",
     "output_type": "stream",
     "text": [
      "Example 1:\n",
      "font: TNR\n",
      "bg: white\n",
      "font size: black\n",
      "font color: 11\n",
      "\n",
      "Example 2:\n",
      "font: TNR\n",
      "bg: white\n",
      "font size: 11\n",
      "font color: black\n",
      "\n",
      "Example 3:\n",
      "font: TNR\n",
      "bg: white\n",
      "font size: 11\n",
      "font color: black\n",
      "\n",
      "Example 4:\n",
      "font: TNR\n",
      "bg: white\n",
      "font size: 12\n",
      "font color: black\n"
     ]
    }
   ],
   "source": [
    "#positional parameters follow order of initiation\n",
    "def website(font, background_color, font_color, font_size):\n",
    "    print('font:', font)\n",
    "    print('bg:', background_color)\n",
    "    print('font size:', font_size)\n",
    "    print('font color:', font_color)\n",
    "print('Example 1:')\n",
    "website('TNR', 'white', '11', 'black')\n",
    "print('')\n",
    "#explicit parameters ensure alignment\n",
    "print('Example 2:')\n",
    "website(font='TNR', \n",
    "        background_color='white', \n",
    "        font_size='11', font_color='black')\n",
    "print('')\n",
    "#function parameter defaults\n",
    "def website(font='TNR', \n",
    "            background_color='white', \n",
    "            font_color='black', font_size='11'):\n",
    "    print('font:', font)\n",
    "    print('bg:', background_color)\n",
    "    print('font size:', font_size)\n",
    "    print('font color:', font_color)\n",
    "print('Example 3:')\n",
    "website()\n",
    "print('')\n",
    "print('Example 4:')\n",
    "website(font_size='12')"
   ]
  },
  {
   "cell_type": "code",
   "execution_count": 40,
   "metadata": {},
   "outputs": [
    {
     "name": "stdout",
     "output_type": "stream",
     "text": [
      "Example 2:\n",
      "7\n",
      "6\n",
      "\n",
      "Example 3:\n",
      "7\n",
      "6\n",
      "\n",
      "Example 4:\n",
      "7\n",
      "7\n",
      "\n",
      "Example 5:\n",
      "7\n",
      "\n",
      "Example 6:\n",
      "8\n"
     ]
    }
   ],
   "source": [
    "#Global and local Variables\n",
    "x = 6\n",
    "\n",
    "def example():\n",
    "    z = 5\n",
    "    print(z)\n",
    "\n",
    "#Cannot print z globally, variable isn't defined globally\n",
    "#In this case z will print bc defined globally in above cell\n",
    "# print(z)\n",
    "\n",
    "def example2():\n",
    "    z = 7\n",
    "    print(z)\n",
    "    print(x)\n",
    "\n",
    "#example2 can access both local and previously defined global vars\n",
    "print('Example 2:')\n",
    "example2()\n",
    "print('')\n",
    "\n",
    "def example3():\n",
    "    z = 7\n",
    "    print(z)\n",
    "    print(x)\n",
    "    \n",
    "#     x += 1\n",
    "#     print(x)\n",
    "\n",
    "#example2() can print x but example3 shows cannot modify global\n",
    "print('Example 3:')\n",
    "example3()\n",
    "print('')\n",
    "\n",
    "def example4():\n",
    "    z = 7\n",
    "    print(z)\n",
    "    y = x + 1\n",
    "    print (y)\n",
    "\n",
    "#can reference global variable and save to local for modifying\n",
    "print('Example 4:')\n",
    "example4()\n",
    "print('')\n",
    "\n",
    "def example5():\n",
    "    y = x + 1\n",
    "    return(y)\n",
    "\n",
    "#example5 shows simple way to modify global var\n",
    "#Note - example5 is considered best practice\n",
    "print('Example 5:')\n",
    "x = example5()\n",
    "print(x)\n",
    "print('')\n",
    "\n",
    "#Can explicity define global variables in functions\n",
    "def example6():\n",
    "    global x\n",
    "    x += 1\n",
    "    print(x)\n",
    "    \n",
    "print('Example 6:')\n",
    "example6()"
   ]
  },
  {
   "cell_type": "code",
   "execution_count": null,
   "metadata": {
    "collapsed": true
   },
   "outputs": [],
   "source": [
    "#Sample comment added in local repository for testing GitHub workflow"
   ]
  }
 ],
 "metadata": {
  "kernelspec": {
   "display_name": "Python 3",
   "language": "python",
   "name": "python3"
  },
  "language_info": {
   "codemirror_mode": {
    "name": "ipython",
    "version": 3
   },
   "file_extension": ".py",
   "mimetype": "text/x-python",
   "name": "python",
   "nbconvert_exporter": "python",
   "pygments_lexer": "ipython3",
   "version": "3.6.1"
  }
 },
 "nbformat": 4,
 "nbformat_minor": 2
}
